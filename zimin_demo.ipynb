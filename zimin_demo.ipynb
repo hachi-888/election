{
 "cells": [
  {
   "cell_type": "code",
   "execution_count": 2,
   "id": "every-airport",
   "metadata": {},
   "outputs": [],
   "source": [
    "from selenium import webdriver\n",
    "from bs4 import BeautifulSoup\n",
    "from time import sleep\n",
    "import pandas as pd\n",
    "import requests\n",
    "import re"
   ]
  },
  {
   "cell_type": "code",
   "execution_count": 6,
   "id": "traditional-directive",
   "metadata": {},
   "outputs": [],
   "source": [
    "driver = webdriver.Chrome(\"./chromedriver\")"
   ]
  },
  {
   "cell_type": "code",
   "execution_count": 7,
   "id": "charged-bloom",
   "metadata": {},
   "outputs": [],
   "source": [
    "url = \"https://kokkai.sugawarataku.net/giin/rl049.html\""
   ]
  },
  {
   "cell_type": "code",
   "execution_count": 8,
   "id": "planned-macintosh",
   "metadata": {},
   "outputs": [],
   "source": [
    "driver.get(url)"
   ]
  },
  {
   "cell_type": "code",
   "execution_count": 9,
   "id": "academic-indie",
   "metadata": {},
   "outputs": [],
   "source": [
    "soup = BeautifulSoup(driver.page_source, \"html.parser\")\n",
    "# print(soup)"
   ]
  },
  {
   "cell_type": "code",
   "execution_count": 10,
   "id": "interested-small",
   "metadata": {},
   "outputs": [
    {
     "data": {
      "text/plain": [
       "'あいさわいちろう'"
      ]
     },
     "execution_count": 10,
     "metadata": {},
     "output_type": "execute_result"
    }
   ],
   "source": [
    "name_hiragana = soup.find(\"span\", class_=\"zt4\")\n",
    "name_hiragana.text"
   ]
  },
  {
   "cell_type": "code",
   "execution_count": 11,
   "id": "another-grave",
   "metadata": {},
   "outputs": [
    {
     "data": {
      "text/plain": [
       "'逢沢一郎'"
      ]
     },
     "execution_count": 11,
     "metadata": {},
     "output_type": "execute_result"
    }
   ],
   "source": [
    "name_kanji = soup.find(\"span\", class_=\"zt5\")\n",
    "name_kanji.text"
   ]
  },
  {
   "cell_type": "code",
   "execution_count": 12,
   "id": "miniature-rugby",
   "metadata": {},
   "outputs": [
    {
     "data": {
      "text/plain": [
       "'自由民主党'"
      ]
     },
     "execution_count": 12,
     "metadata": {},
     "output_type": "execute_result"
    }
   ],
   "source": [
    "party = soup.find(\"div\", class_=\"cc2\")\n",
    "party.text"
   ]
  },
  {
   "cell_type": "code",
   "execution_count": 13,
   "id": "substantial-spice",
   "metadata": {},
   "outputs": [
    {
     "data": {
      "text/plain": [
       "'当12'"
      ]
     },
     "execution_count": 13,
     "metadata": {},
     "output_type": "execute_result"
    }
   ],
   "source": [
    "time = soup.find(\"div\", class_=\"cc3\")\n",
    "time.text"
   ]
  },
  {
   "cell_type": "code",
   "execution_count": 14,
   "id": "broadband-orientation",
   "metadata": {},
   "outputs": [
    {
     "data": {
      "text/plain": [
       "'岡山1区'"
      ]
     },
     "execution_count": 14,
     "metadata": {},
     "output_type": "execute_result"
    }
   ],
   "source": [
    "area = soup.find(\"div\", class_=\"cc4\")\n",
    "area.text"
   ]
  },
  {
   "cell_type": "code",
   "execution_count": 15,
   "id": "impaired-anger",
   "metadata": {},
   "outputs": [
    {
     "name": "stdout",
     "output_type": "stream",
     "text": [
      "<span class=\"zt4\">あいさわいちろう</span>\n",
      "465\n"
     ]
    }
   ],
   "source": [
    "names_hiragana = soup.find_all(\"span\", class_=\"zt4\")\n",
    "print(names_hiragana[0])\n",
    "print(len(names_hiragana))"
   ]
  },
  {
   "cell_type": "code",
   "execution_count": 16,
   "id": "taken-mileage",
   "metadata": {},
   "outputs": [],
   "source": [
    "name_hiragana_list = [name_hiragana.text for name_hiragana in names_hiragana]\n",
    "# name_hiragana_list"
   ]
  },
  {
   "cell_type": "code",
   "execution_count": 17,
   "id": "infrared-comparative",
   "metadata": {},
   "outputs": [
    {
     "name": "stdout",
     "output_type": "stream",
     "text": [
      "<span class=\"zt5\"><a href=\"r01920.html\">逢沢一郎</a></span>\n",
      "465\n"
     ]
    }
   ],
   "source": [
    "names_kanji = soup.find_all(\"span\", class_=\"zt5\")\n",
    "print(names_kanji[0])\n",
    "print(len(names_kanji))"
   ]
  },
  {
   "cell_type": "code",
   "execution_count": 18,
   "id": "dramatic-divide",
   "metadata": {},
   "outputs": [],
   "source": [
    "name_kanji_list = [name_kanji.text for name_kanji in names_kanji]"
   ]
  },
  {
   "cell_type": "code",
   "execution_count": 19,
   "id": "bottom-dominican",
   "metadata": {},
   "outputs": [
    {
     "name": "stdout",
     "output_type": "stream",
     "text": [
      "<div class=\"cc2\">自由民主党</div>\n",
      "465\n"
     ]
    }
   ],
   "source": [
    "parties = soup.find_all(\"div\", class_=\"cc2\")\n",
    "print(parties[0])\n",
    "print(len(parties))"
   ]
  },
  {
   "cell_type": "code",
   "execution_count": 20,
   "id": "spectacular-server",
   "metadata": {},
   "outputs": [],
   "source": [
    "party_list = [party.text for party in parties]"
   ]
  },
  {
   "cell_type": "code",
   "execution_count": 21,
   "id": "existing-savage",
   "metadata": {},
   "outputs": [
    {
     "name": "stdout",
     "output_type": "stream",
     "text": [
      "<div class=\"cc3\">当12</div>\n",
      "465\n"
     ]
    }
   ],
   "source": [
    "times = soup.find_all(\"div\", class_=\"cc3\")\n",
    "print(times[0])\n",
    "print(len(times))"
   ]
  },
  {
   "cell_type": "code",
   "execution_count": 22,
   "id": "postal-newspaper",
   "metadata": {},
   "outputs": [],
   "source": [
    "times_list = [time.text for time in times]"
   ]
  },
  {
   "cell_type": "code",
   "execution_count": 23,
   "id": "productive-mauritius",
   "metadata": {},
   "outputs": [
    {
     "name": "stdout",
     "output_type": "stream",
     "text": [
      "<div class=\"cc4\">岡山1区</div>\n",
      "465\n"
     ]
    }
   ],
   "source": [
    "areas = soup.find_all(\"div\", class_=\"cc4\")\n",
    "print(areas[0])\n",
    "print(len(areas))"
   ]
  },
  {
   "cell_type": "code",
   "execution_count": 24,
   "id": "genuine-revolution",
   "metadata": {},
   "outputs": [],
   "source": [
    "area_list = [area.text for area in areas]"
   ]
  },
  {
   "cell_type": "code",
   "execution_count": 25,
   "id": "ranking-richmond",
   "metadata": {},
   "outputs": [
    {
     "data": {
      "text/plain": [
       "'東海ブロック（愛知12区）'"
      ]
     },
     "execution_count": 25,
     "metadata": {},
     "output_type": "execute_result"
    }
   ],
   "source": [
    "area_list[3]"
   ]
  },
  {
   "cell_type": "code",
   "execution_count": 26,
   "id": "democratic-cornell",
   "metadata": {},
   "outputs": [],
   "source": [
    "#東海ブロック（愛知12区）"
   ]
  },
  {
   "cell_type": "code",
   "execution_count": 27,
   "id": "rolled-lightweight",
   "metadata": {},
   "outputs": [
    {
     "data": {
      "text/plain": [
       "'東海ブロック'"
      ]
     },
     "execution_count": 27,
     "metadata": {},
     "output_type": "execute_result"
    }
   ],
   "source": [
    "re.findall(r\".*ブロック\",area_list[3])[0]"
   ]
  },
  {
   "cell_type": "code",
   "execution_count": 28,
   "id": "animal-fundamentals",
   "metadata": {},
   "outputs": [
    {
     "data": {
      "text/plain": [
       "'愛知12区'"
      ]
     },
     "execution_count": 28,
     "metadata": {},
     "output_type": "execute_result"
    }
   ],
   "source": [
    "re.findall(r\"（.*）\",area_list[3])[0][1:-1]"
   ]
  },
  {
   "cell_type": "code",
   "execution_count": 29,
   "id": "liked-center",
   "metadata": {},
   "outputs": [],
   "source": [
    "area_list2 = []\n",
    "for area in area_list:\n",
    "#     area = re.findall(r\"（.*）\", area)\n",
    "    if \"ブロック\" in area:\n",
    "        area = re.findall(r\"（.*）\", area)\n",
    "        area_list2.append(area[0][1:-1])\n",
    "    else:\n",
    "        area_list2.append(area)"
   ]
  },
  {
   "cell_type": "code",
   "execution_count": 30,
   "id": "vanilla-geneva",
   "metadata": {},
   "outputs": [],
   "source": [
    "# area_list2"
   ]
  },
  {
   "cell_type": "code",
   "execution_count": 31,
   "id": "fitting-pakistan",
   "metadata": {},
   "outputs": [
    {
     "data": {
      "text/plain": [
       "465"
      ]
     },
     "execution_count": 31,
     "metadata": {},
     "output_type": "execute_result"
    }
   ],
   "source": [
    "len(area_list2)"
   ]
  },
  {
   "cell_type": "code",
   "execution_count": 32,
   "id": "structural-vertical",
   "metadata": {},
   "outputs": [],
   "source": [
    "block_list = []\n",
    "for area in area_list:\n",
    "    block = re.findall(r\".*ブロック\", area)\n",
    "    if block:\n",
    "        block_list.append(block)\n",
    "    else: block_list.append(\"\")"
   ]
  },
  {
   "cell_type": "code",
   "execution_count": 33,
   "id": "declared-indian",
   "metadata": {},
   "outputs": [],
   "source": [
    "# block_list"
   ]
  },
  {
   "cell_type": "code",
   "execution_count": 34,
   "id": "turned-setup",
   "metadata": {},
   "outputs": [
    {
     "data": {
      "text/plain": [
       "465"
      ]
     },
     "execution_count": 34,
     "metadata": {},
     "output_type": "execute_result"
    }
   ],
   "source": [
    "len(block_list)"
   ]
  },
  {
   "cell_type": "code",
   "execution_count": 37,
   "id": "spare-guidance",
   "metadata": {},
   "outputs": [],
   "source": [
    "zimin_df = pd.DataFrame()\n",
    "zimin_df[\"なまえ\"] = name_hiragana_list\n",
    "zimin_df[\"名前\"] = name_kanji_list\n",
    "zimin_df[\"所属\"] = party_list\n",
    "zimin_df[\"当選回数\"] = times_list\n",
    "zimin_df[\"当選区\"] = area_list2\n",
    "zimin_df[\"比例ブロック\"] = block_list"
   ]
  },
  {
   "cell_type": "code",
   "execution_count": 38,
   "id": "promotional-owner",
   "metadata": {},
   "outputs": [
    {
     "data": {
      "text/html": [
       "<div>\n",
       "<style scoped>\n",
       "    .dataframe tbody tr th:only-of-type {\n",
       "        vertical-align: middle;\n",
       "    }\n",
       "\n",
       "    .dataframe tbody tr th {\n",
       "        vertical-align: top;\n",
       "    }\n",
       "\n",
       "    .dataframe thead th {\n",
       "        text-align: right;\n",
       "    }\n",
       "</style>\n",
       "<table border=\"1\" class=\"dataframe\">\n",
       "  <thead>\n",
       "    <tr style=\"text-align: right;\">\n",
       "      <th></th>\n",
       "      <th>なまえ</th>\n",
       "      <th>名前</th>\n",
       "      <th>所属</th>\n",
       "      <th>当選回数</th>\n",
       "      <th>当選区</th>\n",
       "      <th>比例ブロック</th>\n",
       "    </tr>\n",
       "  </thead>\n",
       "  <tbody>\n",
       "    <tr>\n",
       "      <th>0</th>\n",
       "      <td>あいさわいちろう</td>\n",
       "      <td>逢沢一郎</td>\n",
       "      <td>自由民主党</td>\n",
       "      <td>当12</td>\n",
       "      <td>岡山1区</td>\n",
       "      <td></td>\n",
       "    </tr>\n",
       "    <tr>\n",
       "      <th>1</th>\n",
       "      <td>あおやぎひとし</td>\n",
       "      <td>青柳仁士</td>\n",
       "      <td>日本維新の会</td>\n",
       "      <td>当1</td>\n",
       "      <td>大阪14区</td>\n",
       "      <td></td>\n",
       "    </tr>\n",
       "    <tr>\n",
       "      <th>2</th>\n",
       "      <td>あおやぎよういちろう</td>\n",
       "      <td>青柳陽一郎</td>\n",
       "      <td>立憲民主党</td>\n",
       "      <td>当4</td>\n",
       "      <td>神奈川6区</td>\n",
       "      <td>[南関東ブロック]</td>\n",
       "    </tr>\n",
       "    <tr>\n",
       "      <th>3</th>\n",
       "      <td>あおやましゅうへい</td>\n",
       "      <td>青山周平</td>\n",
       "      <td>自由民主党</td>\n",
       "      <td>当4</td>\n",
       "      <td>愛知12区</td>\n",
       "      <td>[東海ブロック]</td>\n",
       "    </tr>\n",
       "    <tr>\n",
       "      <th>4</th>\n",
       "      <td>あおやまやまと</td>\n",
       "      <td>青山大人</td>\n",
       "      <td>立憲民主党</td>\n",
       "      <td>当2</td>\n",
       "      <td>茨城6区</td>\n",
       "      <td>[北関東ブロック]</td>\n",
       "    </tr>\n",
       "    <tr>\n",
       "      <th>...</th>\n",
       "      <td>...</td>\n",
       "      <td>...</td>\n",
       "      <td>...</td>\n",
       "      <td>...</td>\n",
       "      <td>...</td>\n",
       "      <td>...</td>\n",
       "    </tr>\n",
       "    <tr>\n",
       "      <th>460</th>\n",
       "      <td>わたなべこういち</td>\n",
       "      <td>渡辺孝一</td>\n",
       "      <td>自由民主党</td>\n",
       "      <td>当4</td>\n",
       "      <td>比例単独</td>\n",
       "      <td>[北海道ブロック]</td>\n",
       "    </tr>\n",
       "    <tr>\n",
       "      <th>461</th>\n",
       "      <td>わたなべしゅう</td>\n",
       "      <td>渡辺周</td>\n",
       "      <td>立憲民主党</td>\n",
       "      <td>当9</td>\n",
       "      <td>静岡6区</td>\n",
       "      <td>[東海ブロック]</td>\n",
       "    </tr>\n",
       "    <tr>\n",
       "      <th>462</th>\n",
       "      <td>わたなべそう</td>\n",
       "      <td>渡辺創</td>\n",
       "      <td>立憲民主党</td>\n",
       "      <td>当1</td>\n",
       "      <td>宮崎1区</td>\n",
       "      <td></td>\n",
       "    </tr>\n",
       "    <tr>\n",
       "      <th>463</th>\n",
       "      <td>わたなべひろみち</td>\n",
       "      <td>渡辺博道</td>\n",
       "      <td>自由民主党</td>\n",
       "      <td>当8</td>\n",
       "      <td>千葉6区</td>\n",
       "      <td></td>\n",
       "    </tr>\n",
       "    <tr>\n",
       "      <th>464</th>\n",
       "      <td>わにぶちようこ</td>\n",
       "      <td>鰐淵洋子</td>\n",
       "      <td>公明党</td>\n",
       "      <td>当2</td>\n",
       "      <td>比例単独</td>\n",
       "      <td>[近畿ブロック]</td>\n",
       "    </tr>\n",
       "  </tbody>\n",
       "</table>\n",
       "<p>465 rows × 6 columns</p>\n",
       "</div>"
      ],
      "text/plain": [
       "            なまえ     名前      所属 当選回数    当選区     比例ブロック\n",
       "0      あいさわいちろう   逢沢一郎   自由民主党  当12   岡山1区           \n",
       "1       あおやぎひとし   青柳仁士  日本維新の会   当1  大阪14区           \n",
       "2    あおやぎよういちろう  青柳陽一郎   立憲民主党   当4  神奈川6区  [南関東ブロック]\n",
       "3     あおやましゅうへい   青山周平   自由民主党   当4  愛知12区   [東海ブロック]\n",
       "4       あおやまやまと   青山大人   立憲民主党   当2   茨城6区  [北関東ブロック]\n",
       "..          ...    ...     ...  ...    ...        ...\n",
       "460    わたなべこういち   渡辺孝一   自由民主党   当4   比例単独  [北海道ブロック]\n",
       "461     わたなべしゅう    渡辺周   立憲民主党   当9   静岡6区   [東海ブロック]\n",
       "462      わたなべそう    渡辺創   立憲民主党   当1   宮崎1区           \n",
       "463    わたなべひろみち   渡辺博道   自由民主党   当8   千葉6区           \n",
       "464     わにぶちようこ   鰐淵洋子     公明党   当2   比例単独   [近畿ブロック]\n",
       "\n",
       "[465 rows x 6 columns]"
      ]
     },
     "execution_count": 38,
     "metadata": {},
     "output_type": "execute_result"
    }
   ],
   "source": [
    "zimin_df"
   ]
  },
  {
   "cell_type": "code",
   "execution_count": 39,
   "id": "demonstrated-complexity",
   "metadata": {},
   "outputs": [],
   "source": [
    "term = soup.find(\"h1\", id=\"top\").text"
   ]
  },
  {
   "cell_type": "code",
   "execution_count": 41,
   "id": "historic-pearl",
   "metadata": {},
   "outputs": [],
   "source": [
    "zimin_df.to_csv(f\"./{term}.csv\", index=False, encoding=\"shift jis\")"
   ]
  },
  {
   "cell_type": "code",
   "execution_count": null,
   "id": "plain-nicholas",
   "metadata": {},
   "outputs": [],
   "source": []
  }
 ],
 "metadata": {
  "kernelspec": {
   "display_name": "Python 3",
   "language": "python",
   "name": "python3"
  },
  "language_info": {
   "codemirror_mode": {
    "name": "ipython",
    "version": 3
   },
   "file_extension": ".py",
   "mimetype": "text/x-python",
   "name": "python",
   "nbconvert_exporter": "python",
   "pygments_lexer": "ipython3",
   "version": "3.7.9"
  }
 },
 "nbformat": 4,
 "nbformat_minor": 5
}
