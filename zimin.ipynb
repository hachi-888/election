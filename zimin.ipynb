{
 "cells": [
  {
   "cell_type": "code",
   "execution_count": 23,
   "id": "digital-tuition",
   "metadata": {},
   "outputs": [],
   "source": [
    "from selenium import webdriver\n",
    "from selenium.webdriver.chrome.options import Options\n",
    "from bs4 import BeautifulSoup\n",
    "from time import sleep\n",
    "import pandas as pd\n",
    "import requests\n",
    "import re"
   ]
  },
  {
   "cell_type": "code",
   "execution_count": 24,
   "id": "amino-component",
   "metadata": {},
   "outputs": [],
   "source": [
    "driver_path = \"./chromedriver\"\n",
    "url = \"https://kokkai.sugawarataku.net/giin/rl049.html\""
   ]
  },
  {
   "cell_type": "code",
   "execution_count": 27,
   "id": "consecutive-table",
   "metadata": {},
   "outputs": [],
   "source": [
    "def zimin_clawling(driver_path, url):\n",
    "    \"\"\"\n",
    "    driver_path : google driverが置かれているpath\n",
    "    url : 取得したいサイトのurl\n",
    "    \"\"\"\n",
    "    # ヘッドレスモードでブラウザを起動\n",
    "    options = Options()\n",
    "    options.add_argument(\"--headless\")\n",
    "    \n",
    "    # driverの設定\n",
    "    driver = webdriver.Chrome(driver_path, options=options)\n",
    "    driver.get(url)\n",
    "    \n",
    "    # htmlを取得\n",
    "    soup = BeautifulSoup(driver.page_source, \"html.parser\")\n",
    "    \n",
    "    # 氏名（ひらがな）、氏名、政党、当選回数、地域を取得\n",
    "    names_hiragana = soup.find_all(\"span\", class_=\"zt4\")\n",
    "    name_hiragana_list = [name_hiragana.text for name_hiragana in names_hiragana]\n",
    "    \n",
    "    names_kanji = soup.find_all(\"span\", class_=\"zt5\")\n",
    "    name_kanji_list = [name_kanji.text for name_kanji in names_kanji]\n",
    "    \n",
    "    parties = soup.find_all(\"div\", class_=\"cc2\")\n",
    "    party_list = [party.text for party in parties]\n",
    "    \n",
    "    times = soup.find_all(\"div\", class_=\"cc3\")\n",
    "    times_list = [time.text for time in times]\n",
    "    \n",
    "    areas = soup.find_all(\"div\", class_=\"cc4\")\n",
    "    area_list = [area.text for area in areas]\n",
    "    \n",
    "    # 当選した地域とブロックの情報を分ける\n",
    "    area_list2 = []\n",
    "    for area in area_list:\n",
    "        if \"ブロック\" in area:\n",
    "            area = re.findall(r\"（.*）\", area)\n",
    "            area_list2.append(area[0][1:-1]) # （）を除く\n",
    "        else:\n",
    "            area_list2.append(area)\n",
    "    \n",
    "    block_list = []\n",
    "    for area in area_list:\n",
    "        block = re.findall(r\".*ブロック\", area)\n",
    "        if block:\n",
    "            block_list.append(block)\n",
    "        else: block_list.append(\"\")\n",
    "            \n",
    "    # DataFrameにまとめる\n",
    "    zimin_df = pd.DataFrame()\n",
    "    zimin_df[\"氏名（ひらがな）\"] = name_hiragana_list\n",
    "    zimin_df[\"氏名\"] = name_kanji_list\n",
    "    zimin_df[\"所属\"] = party_list\n",
    "    zimin_df[\"当選回数\"] = times_list\n",
    "    zimin_df[\"当選区\"] = area_list2\n",
    "    zimin_df[\"比例ブロック\"] = block_list\n",
    "    \n",
    "    # csvとして同じディレクトリに保存\n",
    "    term = soup.find(\"h1\", id=\"top\").text\n",
    "    zimin_df.to_csv(f\"./{term}.csv\", index=False, encoding=\"shift jis\")\n",
    "    return "
   ]
  }
 ],
 "metadata": {
  "kernelspec": {
   "display_name": "Python 3",
   "language": "python",
   "name": "python3"
  },
  "language_info": {
   "codemirror_mode": {
    "name": "ipython",
    "version": 3
   },
   "file_extension": ".py",
   "mimetype": "text/x-python",
   "name": "python",
   "nbconvert_exporter": "python",
   "pygments_lexer": "ipython3",
   "version": "3.7.9"
  },
  "toc-autonumbering": true
 },
 "nbformat": 4,
 "nbformat_minor": 5
}
